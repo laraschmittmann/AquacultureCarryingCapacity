{
 "cells": [
  {
   "cell_type": "markdown",
   "id": "proof-release",
   "metadata": {},
   "source": [
    "# Setting up a Lagrangian experiment\n",
    "Requirements:\n",
    "- [x] Starting from these 32 stations: data/config/stations.csv (1x1 degree boxes)\n",
    "- [x] start at 4m depth\n",
    "- [x] 10000 particles per station\n",
    "- [x] daily release for May-August, 2019-2022 --> managed by job_script\n",
    "- [x] runtime of 4 weeks\n",
    "- [x] write hourly snapshots\n",
    "- [x] track topography"
   ]
  },
  {
   "cell_type": "code",
   "execution_count": 1,
   "id": "conventional-victor",
   "metadata": {},
   "outputs": [],
   "source": [
    "# Import everything required\n",
    "\n",
    "from parcels import (\n",
    "    FieldSet,\n",
    "    JITParticle,\n",
    "    ScipyParticle,\n",
    "    ParticleSet,\n",
    "    AdvectionRK4,\n",
    "    ErrorCode,\n",
    "    Variable\n",
    ")\n",
    "#import cmocean\n",
    "from operator import attrgetter\n",
    "from datetime import datetime, timedelta\n",
    "\n",
    "import numpy as np\n",
    "from pathlib import Path\n",
    "import matplotlib.pyplot as plt\n",
    "import xarray as xr\n",
    "import pandas as pd\n",
    "from glob import glob\n",
    "from shapely.geometry import Polygon, Point\n",
    "from functools import reduce\n",
    "import os"
   ]
  },
  {
   "cell_type": "markdown",
   "id": "theoretical-guitar",
   "metadata": {},
   "source": [
    "## Experiment settings"
   ]
  },
  {
   "cell_type": "code",
   "execution_count": 2,
   "id": "lucky-valuation",
   "metadata": {
    "tags": [
     "parameters"
    ]
   },
   "outputs": [],
   "source": [
    "# release position \n",
    "release_depth = 4 #middle of the bottom grid cell of the shallowest station\n",
    "\n",
    "# release particles\n",
    "number_particles = 10000\n",
    "\n",
    "# start date\n",
    "# Reference date + offset in days. We'll use integer days and argue that due\n",
    "# to the random spatial seeding, this is largely equivalent to also randomizing \n",
    "# seeding times.\n",
    "start_date_reference = \"2019-05-01T00:00:00\"\n",
    "start_date_offset_days = 0\n",
    "\n",
    "# experiment duration etc\n",
    "runtime_in_days = 28\n",
    "dt_in_minutes = 30 \n",
    "# 1.5km, 0.5m/s --> 3000s & divide by 2 to be on the safe side\n",
    "\n",
    "# particle positions are stored every x hours \n",
    "outputdt_in_hours = 1 \n",
    "\n",
    "# release location file\n",
    "release_stations_file = \"/gxfs_work/geomar/smomw523/2022_north-sea_oysters/data/config/stations.csv\"\n",
    "release_station = \"DK_0044\"\n",
    "\n",
    "# release spread\n",
    "delta_lat = 0.05\n",
    "delta_lon = 0.03\n",
    "\n",
    "\n",
    "# location of input data \n",
    "data_path = '/gxfs_work/geomar/smomw529/2022_north-sea_oysters/data/ocean/MetO-NWS-PHY-hi-CUR/'\n",
    "data_filename = '????/??/*.nc'\n",
    "example_file = '/gxfs_work/geomar/smomw529/2022_north-sea_oysters/data/ocean/MetO-NWS-PHY-hi-CUR/2022/01/metoffice_foam1_amm15_NWS_CUR_b20220103_hi20220101.nc'\n",
    "\n",
    "\n",
    "# location of output data\n",
    "outpath = '/gxfs_work/geomar/smomw523/2022_north-sea_oysters/output_data/revision/'\n",
    "output_filename_pattern = '{release_station}_start-ref-{start_date_ref:s}_start-offset-{start_date_offset_days:03d}_RT-{runtime_in_days:02d}_N-{number_particles}_depth-{release_depth}m_seed-{RNG_seed}.nc'\n",
    "\n",
    "# how to initialize the random number generator\n",
    "RNG_seed = 12345"
   ]
  },
  {
   "cell_type": "markdown",
   "id": "square-marking",
   "metadata": {},
   "source": [
    "## Construct input / output paths etc."
   ]
  },
  {
   "cell_type": "code",
   "execution_count": 3,
   "id": "fleet-orientation",
   "metadata": {
    "tags": []
   },
   "outputs": [],
   "source": [
    "file_list = sorted(Path(data_path).glob(data_filename))\n",
    "\n",
    "outpath = Path(outpath)\n",
    "\n",
    "output_filename = output_filename_pattern.format(\n",
    "    release_station=release_station,\n",
    "    start_date_ref=start_date_reference,\n",
    "    start_date_offset_days=start_date_offset_days,\n",
    "    RNG_seed=RNG_seed,\n",
    "    runtime_in_days=runtime_in_days,\n",
    "    number_particles=number_particles,\n",
    "    release_depth=release_depth\n",
    ")\n",
    "outfile = outpath / output_filename"
   ]
  },
  {
   "cell_type": "code",
   "execution_count": 4,
   "id": "a81c738e-26db-4fba-9c1a-93f907777bfa",
   "metadata": {},
   "outputs": [
    {
     "data": {
      "text/plain": [
       "PosixPath('/gxfs_work/geomar/smomw523/2022_north-sea_oysters/output_data/revision/DK_0044_start-ref-2019-05-01T00:00:00_start-offset-000_RT-28_N-10000_depth-4m_seed-12345.nc')"
      ]
     },
     "execution_count": 4,
     "metadata": {},
     "output_type": "execute_result"
    }
   ],
   "source": [
    "outfile"
   ]
  },
  {
   "cell_type": "code",
   "execution_count": 5,
   "id": "d96b6c83-c41d-47f5-89b4-bf2176457892",
   "metadata": {},
   "outputs": [
    {
     "ename": "Exception",
     "evalue": "Nothing to do for /gxfs_work/geomar/smomw523/2022_north-sea_oysters/output_data/revision/DK_0044_start-ref-2019-05-01T00:00:00_start-offset-000_RT-28_N-10000_depth-4m_seed-12345.nc",
     "output_type": "error",
     "traceback": [
      "\u001b[0;31m---------------------------------------------------------------------------\u001b[0m",
      "\u001b[0;31mException\u001b[0m                                 Traceback (most recent call last)",
      "Input \u001b[0;32mIn [4]\u001b[0m, in \u001b[0;36m<cell line: 1>\u001b[0;34m()\u001b[0m\n\u001b[1;32m      1\u001b[0m \u001b[38;5;28;01mif\u001b[39;00m outfile\u001b[38;5;241m.\u001b[39mexists():\n\u001b[0;32m----> 2\u001b[0m     \u001b[38;5;28;01mraise\u001b[39;00m \u001b[38;5;167;01mException\u001b[39;00m(\u001b[38;5;124mf\u001b[39m\u001b[38;5;124m\"\u001b[39m\u001b[38;5;124mNothing to do for \u001b[39m\u001b[38;5;132;01m{\u001b[39;00moutfile\u001b[38;5;132;01m}\u001b[39;00m\u001b[38;5;124m\"\u001b[39m)\n",
      "\u001b[0;31mException\u001b[0m: Nothing to do for /gxfs_work/geomar/smomw523/2022_north-sea_oysters/output_data/revision/DK_0044_start-ref-2019-05-01T00:00:00_start-offset-000_RT-28_N-10000_depth-4m_seed-12345.nc"
     ]
    }
   ],
   "source": [
    "if outfile.exists():\n",
    "    raise Exception(f\"Nothing to do for {outfile}\")"
   ]
  },
  {
   "cell_type": "markdown",
   "id": "parliamentary-appeal",
   "metadata": {},
   "source": [
    "## Load release location"
   ]
  },
  {
   "cell_type": "code",
   "execution_count": 6,
   "id": "320d7ac6-1ba3-4ac8-b4b2-f867db5326a1",
   "metadata": {},
   "outputs": [],
   "source": [
    "def load_release_locations(release_locations_file):\n",
    "    df = pd.read_csv(release_locations_file, delimiter=\"\\t\")\n",
    "    df = df.set_index(\"site_id\")\n",
    "    return df"
   ]
  },
  {
   "cell_type": "code",
   "execution_count": 7,
   "id": "04de68ab-3748-4c79-807b-97bafbc01d27",
   "metadata": {},
   "outputs": [],
   "source": [
    "release_locations = load_release_locations(release_stations_file)\n",
    "bathymodiolus_lat, bathymodiolus_lon,_,_,_,_,_,_,_,_,_,_,_,_,_,_,_,_ = release_locations.loc[release_station]"
   ]
  },
  {
   "cell_type": "code",
   "execution_count": 8,
   "id": "1d6b76a5-5d2f-4212-8283-5cd4112e1fe4",
   "metadata": {},
   "outputs": [
    {
     "data": {
      "text/plain": [
       "(56.72285542, 8.199000094)"
      ]
     },
     "execution_count": 8,
     "metadata": {},
     "output_type": "execute_result"
    }
   ],
   "source": [
    "#Central release location\n",
    "bathymodiolus_lat, bathymodiolus_lon"
   ]
  },
  {
   "cell_type": "code",
   "execution_count": 9,
   "id": "dfa418a3-af49-4901-85d6-b29f6ed23739",
   "metadata": {},
   "outputs": [],
   "source": [
    "np.random.seed(RNG_seed)"
   ]
  },
  {
   "cell_type": "code",
   "execution_count": 10,
   "id": "f19c00c4-977e-46ba-9a73-d5df54518893",
   "metadata": {},
   "outputs": [],
   "source": [
    "def get_uniform_random_latlon_in(\n",
    "    lat_start=bathymodiolus_lat-delta_lat, lat_end=bathymodiolus_lat+delta_lat,\n",
    "    lon_start=bathymodiolus_lon-delta_lon, lon_end=bathymodiolus_lon+delta_lon,\n",
    "    N=10,\n",
    "):\n",
    "    lat = np.rad2deg(\n",
    "        np.arcsin(\n",
    "            np.random.uniform(\n",
    "                np.sin(np.deg2rad(lat_start)),\n",
    "                np.sin(np.deg2rad(lat_end)),\n",
    "                size=(N, ),\n",
    "            )\n",
    "        )\n",
    "    )\n",
    "    lon = np.random.uniform(lon_start, lon_end, size=(N, ))\n",
    "    return pd.DataFrame(\n",
    "        {\n",
    "            \"lat\": lat,\n",
    "            \"lon\": lon,\n",
    "        }\n",
    "    )"
   ]
  },
  {
   "cell_type": "code",
   "execution_count": 11,
   "id": "c9fb0748-5a3f-4aad-97aa-adde74a7757b",
   "metadata": {},
   "outputs": [
    {
     "data": {
      "text/plain": [
       "<matplotlib.collections.QuadMesh at 0x14b5c252fa30>"
      ]
     },
     "execution_count": 11,
     "metadata": {},
     "output_type": "execute_result"
    },
    {
     "data": {
      "image/png": "[encoded data removed]",
      "text/plain": [
       "<Figure size 432x288 with 2 Axes>"
      ]
     },
     "metadata": {
      "needs_background": "light"
     },
     "output_type": "display_data"
    }
   ],
   "source": [
    "ds_example = xr.open_dataset(example_file)\n",
    "topo = ds_example.depth.where(~ds_example.uo.isel(time=0, drop=True).isnull()).max(\"depth\") \n",
    "topo.plot()"
   ]
  },
  {
   "cell_type": "code",
   "execution_count": 12,
   "id": "6ce86945-530a-4477-ac1f-acd70e5368c1",
   "metadata": {},
   "outputs": [],
   "source": [
    "# topography saved in...\n",
    "#topo=topo.rename('topography')\n",
    "#topo.to_netcdf('/gxfs_work/geomar/smomw523/2022_north-sea_oysters/data/ocean/topography_northsea.nc')"
   ]
  },
  {
   "cell_type": "code",
   "execution_count": 13,
   "id": "810240a9-2d9d-4730-beba-4a84c3fab232",
   "metadata": {},
   "outputs": [
    {
     "data": {
      "text/plain": [
       "[PosixPath('/gxfs_work/geomar/smomw523/2022_north-sea_oysters/data/ocean/topography_northsea.nc')]"
      ]
     },
     "execution_count": 13,
     "metadata": {},
     "output_type": "execute_result"
    }
   ],
   "source": [
    "topo_file = sorted(Path('/gxfs_work/geomar/smomw523/2022_north-sea_oysters/data/ocean').glob('topography_northsea.nc'))\n",
    "topo_file"
   ]
  },
  {
   "cell_type": "code",
   "execution_count": 14,
   "id": "5d7eba60-a873-4fec-97a6-c270eafa54c6",
   "metadata": {},
   "outputs": [],
   "source": [
    "release_points = get_uniform_random_latlon_in(N=20*number_particles,\n",
    ")\n",
    "release_points[\"topo\"] = topo.sel(\n",
    "    lat=release_points.to_xarray().lat,\n",
    "    lon=release_points.to_xarray().lon,\n",
    "    method=\"nearest\",\n",
    ")\n",
    "release_points = release_points.where(release_points.topo > release_depth).dropna().iloc[:number_particles].reset_index(drop=True)"
   ]
  },
  {
   "cell_type": "code",
   "execution_count": 15,
   "id": "c739d6bb-d1dc-4bfd-88dc-81adda34ef99",
   "metadata": {},
   "outputs": [
    {
     "data": {
      "text/plain": [
       "<AxesSubplot:xlabel='lon', ylabel='lat'>"
      ]
     },
     "execution_count": 15,
     "metadata": {},
     "output_type": "execute_result"
    },
    {
     "data": {
      "image/png": "[encoded data removed]",
      "text/plain": [
       "<Figure size 720x720 with 2 Axes>"
      ]
     },
     "metadata": {
      "needs_background": "light"
     },
     "output_type": "display_data"
    }
   ],
   "source": [
    "release_points.plot.scatter(x=\"lon\", y=\"lat\", s=14, c=\"topo\", cmap=cmocean.cm.deep, figsize=(10, 10))"
   ]
  },
  {
   "cell_type": "markdown",
   "id": "integral-parent",
   "metadata": {},
   "source": [
    "## Load input datasets"
   ]
  },
  {
   "cell_type": "code",
   "execution_count": 16,
   "id": "false-executive",
   "metadata": {},
   "outputs": [],
   "source": [
    "filenames = {'U': {'lon': file_list[0], 'lat': file_list[0], 'depth': file_list[0], 'data': file_list},\n",
    "             'V': {'lon': file_list[0], 'lat': file_list[0], 'depth': file_list[0], 'data': file_list},\n",
    "             'topo': {'lon': file_list[0], 'lat': file_list[0], 'data': topo_file}}\n",
    "variables = {'U': 'uo', 'V': 'vo', 'topo': 'topography'}\n",
    "dimensions = {'U': {'lon': 'lon', 'lat': 'lat', 'depth': 'depth', 'time': 'time'},\n",
    "              'V': {'lon': 'lon', 'lat': 'lat', 'depth': 'depth', 'time': 'time'},\n",
    "              'topo': {'lon': 'lon', 'lat': 'lat'}}\n"
   ]
  },
  {
   "cell_type": "code",
   "execution_count": 17,
   "id": "civilian-argument",
   "metadata": {},
   "outputs": [
    {
     "data": {
      "text/plain": [
       "<parcels.fieldset.FieldSet at 0x14b5ba247730>"
      ]
     },
     "execution_count": 17,
     "metadata": {},
     "output_type": "execute_result"
    }
   ],
   "source": [
    "fieldset = FieldSet.from_netcdf(filenames, variables, dimensions, allow_time_extrapolation=True)\n",
    "fieldset"
   ]
  },
  {
   "cell_type": "markdown",
   "id": "specific-colon",
   "metadata": {},
   "source": [
    "## Particleset"
   ]
  },
  {
   "cell_type": "code",
   "execution_count": 18,
   "id": "16af003f-090f-406d-b645-6262742a0717",
   "metadata": {},
   "outputs": [],
   "source": [
    "lat = release_points['lat'][:]\n",
    "lon = release_points['lon'][:]\n",
    "\n",
    "depth = np.ones_like(lat) * release_depth "
   ]
  },
  {
   "cell_type": "code",
   "execution_count": 19,
   "id": "unavailable-eating",
   "metadata": {},
   "outputs": [
    {
     "data": {
      "image/png": "[encoded data removed]",
      "text/plain": [
       "<Figure size 432x288 with 1 Axes>"
      ]
     },
     "metadata": {
      "needs_background": "light"
     },
     "output_type": "display_data"
    }
   ],
   "source": [
    "plt.scatter(lon, lat, s=5);"
   ]
  },
  {
   "cell_type": "code",
   "execution_count": 20,
   "id": "1190d96d-51f4-4166-883d-2c902b9a600e",
   "metadata": {},
   "outputs": [
    {
     "data": {
      "text/plain": [
       "numpy.datetime64('2019-05-01T00:00:00')"
      ]
     },
     "execution_count": 20,
     "metadata": {},
     "output_type": "execute_result"
    }
   ],
   "source": [
    "time_origin = np.datetime64(start_date_reference)\n",
    "time_origin"
   ]
  },
  {
   "cell_type": "code",
   "execution_count": 21,
   "id": "dbef2a05-74b7-4f34-b481-9493201dc638",
   "metadata": {},
   "outputs": [
    {
     "data": {
      "text/plain": [
       "array(['2019-05-01T00:00:00', '2019-05-01T00:00:00',\n",
       "       '2019-05-01T00:00:00', '2019-05-01T00:00:00',\n",
       "       '2019-05-01T00:00:00'], dtype='datetime64[s]')"
      ]
     },
     "execution_count": 21,
     "metadata": {},
     "output_type": "execute_result"
    }
   ],
   "source": [
    "time = (\n",
    "    time_origin \n",
    "    + np.timedelta64(start_date_offset_days, \"D\") * np.ones_like(lat).astype(int)\n",
    ")\n",
    "time[:5]"
   ]
  },
  {
   "cell_type": "code",
   "execution_count": 22,
   "id": "df97469c-4f8e-4702-b8af-e8aae8174676",
   "metadata": {},
   "outputs": [],
   "source": [
    "class SampleParticleInitZero(JITParticle):\n",
    "    \"\"\"Define a new particle class with Variable 'topography' init 0\"\"\"\n",
    "\n",
    "    topography = Variable(\"topography\", initial=0)"
   ]
  },
  {
   "cell_type": "code",
   "execution_count": 23,
   "id": "covered-rouge",
   "metadata": {},
   "outputs": [],
   "source": [
    "pset = ParticleSet(\n",
    "    fieldset=fieldset,\n",
    "    pclass=SampleParticleInitZero,\n",
    "    lat=lat,\n",
    "    lon=lon,\n",
    "    depth=depth,\n",
    "    time=time\n",
    ")"
   ]
  },
  {
   "cell_type": "code",
   "execution_count": 24,
   "id": "concerned-asian",
   "metadata": {},
   "outputs": [],
   "source": [
    "kernel = pset.Kernel(AdvectionRK4)  #2d advection"
   ]
  },
  {
   "cell_type": "code",
   "execution_count": 25,
   "id": "82f28fd8-6978-4359-89bf-929f9052aa6b",
   "metadata": {},
   "outputs": [],
   "source": [
    "def SampleT(particle, fieldset, time):  \n",
    "    particle.topography = fieldset.topo[time, particle.depth, particle.lat, particle.lon]\n",
    "\n",
    "sample_kernel = pset.Kernel(SampleT)  # Casting the SampleT function to a kernel."
   ]
  },
  {
   "cell_type": "code",
   "execution_count": 26,
   "id": "adfc4728-7b68-4691-bc4b-49afc6b84252",
   "metadata": {},
   "outputs": [
    {
     "name": "stderr",
     "output_type": "stream",
     "text": [
      "INFO: Compiled ArraySampleParticleInitZeroSampleT ==> /tmp/parcels-726810/lib6465cbc44ee1ce11424c14e774d7155e_0.so\n",
      "WARNING: dt or runtime are zero, or endtime is equal to Particle.time. The kernels will be executed once, without incrementing time\n"
     ]
    }
   ],
   "source": [
    "pset.execute(sample_kernel, dt=0)\n",
    "\n",
    "output_file = pset.ParticleFile(name=f\"/gxfs_work/geomar/smomw523/2022_north-sea_oysters/output_data/cache/InitZero_{release_station}_start-ref-{start_date_reference:s}_start-offset-{start_date_offset_days:03d}.nc.zarr\", outputdt=timedelta(minutes=dt_in_minutes))"
   ]
  },
  {
   "cell_type": "markdown",
   "id": "fa135641-9660-4b49-a7e9-9e9f4911857a",
   "metadata": {},
   "source": [
    "### Be able to handle errors during integration"
   ]
  },
  {
   "cell_type": "code",
   "execution_count": 27,
   "id": "c308eb7c-ce90-4565-9f2f-ecf720b69ebf",
   "metadata": {},
   "outputs": [],
   "source": [
    "def DeleteParticle(particle, fieldset, time):\n",
    "    particle.delete()\n",
    "    \n",
    "recovery_cases = {ErrorCode.ErrorOutOfBounds: DeleteParticle,\n",
    "    ErrorCode.ErrorThroughSurface: DeleteParticle\n",
    "    }"
   ]
  },
  {
   "cell_type": "code",
   "execution_count": 28,
   "id": "solid-wesley",
   "metadata": {},
   "outputs": [
    {
     "data": {
      "text/plain": [
       "PosixPath('/gxfs_work/geomar/smomw523/2022_north-sea_oysters/output_data/revision/DK_0044_start-ref-2019-05-01T00:00:00_start-offset-000_RT-28_N-100_depth-4m_seed-12345.nc')"
      ]
     },
     "execution_count": 28,
     "metadata": {},
     "output_type": "execute_result"
    }
   ],
   "source": [
    "outfile"
   ]
  },
  {
   "cell_type": "code",
   "execution_count": 29,
   "id": "virtual-first",
   "metadata": {},
   "outputs": [],
   "source": [
    "output_pfile = pset.ParticleFile(name=outfile, outputdt=timedelta(hours=outputdt_in_hours))"
   ]
  },
  {
   "cell_type": "code",
   "execution_count": 30,
   "id": "intelligent-rating",
   "metadata": {},
   "outputs": [
    {
     "name": "stderr",
     "output_type": "stream",
     "text": [
      "INFO: Compiled ArraySampleParticleInitZeroAdvectionRK4SampleT ==> /tmp/parcels-726810/liba8e6339c815c5d4fbfedcb75e7832fff_0.so\n",
      "INFO: Temporary output files are stored in /gxfs_work/geomar/smomw523/2022_north-sea_oysters/output_data/revision/out-EZBVAXTG.\n",
      "INFO: You can use \"parcels_convert_npydir_to_netcdf /gxfs_work/geomar/smomw523/2022_north-sea_oysters/output_data/revision/out-EZBVAXTG\" to convert these to a NetCDF file during the run.\n",
      "100%|███████████████████████████| 2419200.0/2419200.0 [17:48<00:00, 2265.03it/s]\n"
     ]
    }
   ],
   "source": [
    "pset.execute(\n",
    "    kernel + sample_kernel,\n",
    "    runtime=timedelta(days=runtime_in_days),\n",
    "    dt=timedelta(minutes=dt_in_minutes),\n",
    "    output_file=output_pfile,\n",
    "    recovery=recovery_cases,\n",
    ")"
   ]
  },
  {
   "cell_type": "code",
   "execution_count": 31,
   "id": "chemical-darkness",
   "metadata": {},
   "outputs": [],
   "source": [
    "output_pfile.export()"
   ]
  },
  {
   "cell_type": "code",
   "execution_count": 32,
   "id": "fixed-perspective",
   "metadata": {},
   "outputs": [
    {
     "data": {
      "text/html": [
       "<div><svg style=\"position: absolute; width: 0; height: 0; overflow: hidden\">\n",
       "<defs>\n",
       "<symbol id=\"icon-database\" viewBox=\"0 0 32 32\">\n",
       "<path d=\"M16 0c-8.837 0-16 2.239-16 5v4c0 2.761 7.163 5 16 5s16-2.239 16-5v-4c0-2.761-7.163-5-16-5z\"></path>\n",
       "<path d=\"M16 17c-8.837 0-16-2.239-16-5v6c0 2.761 7.163 5 16 5s16-2.239 16-5v-6c0 2.761-7.163 5-16 5z\"></path>\n",
       "<path d=\"M16 26c-8.837 0-16-2.239-16-5v6c0 2.761 7.163 5 16 5s16-2.239 16-5v-6c0 2.761-7.163 5-16 5z\"></path>\n",
       "</symbol>\n",
       "<symbol id=\"icon-file-text2\" viewBox=\"0 0 32 32\">\n",
       "<path d=\"M28.681 7.159c-0.694-0.947-1.662-2.053-2.724-3.116s-2.169-2.030-3.116-2.724c-1.612-1.182-2.393-1.319-2.841-1.319h-15.5c-1.378 0-2.5 1.121-2.5 2.5v27c0 1.378 1.122 2.5 2.5 2.5h23c1.378 0 2.5-1.122 2.5-2.5v-19.5c0-0.448-0.137-1.23-1.319-2.841zM24.543 5.457c0.959 0.959 1.712 1.825 2.268 2.543h-4.811v-4.811c0.718 0.556 1.584 1.309 2.543 2.268zM28 29.5c0 0.271-0.229 0.5-0.5 0.5h-23c-0.271 0-0.5-0.229-0.5-0.5v-27c0-0.271 0.229-0.5 0.5-0.5 0 0 15.499-0 15.5 0v7c0 0.552 0.448 1 1 1h7v19.5z\"></path>\n",
       "<path d=\"M23 26h-14c-0.552 0-1-0.448-1-1s0.448-1 1-1h14c0.552 0 1 0.448 1 1s-0.448 1-1 1z\"></path>\n",
       "<path d=\"M23 22h-14c-0.552 0-1-0.448-1-1s0.448-1 1-1h14c0.552 0 1 0.448 1 1s-0.448 1-1 1z\"></path>\n",
       "<path d=\"M23 18h-14c-0.552 0-1-0.448-1-1s0.448-1 1-1h14c0.552 0 1 0.448 1 1s-0.448 1-1 1z\"></path>\n",
       "</symbol>\n",
       "</defs>\n",
       "</svg>\n",
       "<style>/* CSS stylesheet for displaying xarray objects in jupyterlab.\n",
       " *\n",
       " */\n",
       "\n",
       ":root {\n",
       "  --xr-font-color0: var(--jp-content-font-color0, rgba(0, 0, 0, 1));\n",
       "  --xr-font-color2: var(--jp-content-font-color2, rgba(0, 0, 0, 0.54));\n",
       "  --xr-font-color3: var(--jp-content-font-color3, rgba(0, 0, 0, 0.38));\n",
       "  --xr-border-color: var(--jp-border-color2, #e0e0e0);\n",
       "  --xr-disabled-color: var(--jp-layout-color3, #bdbdbd);\n",
       "  --xr-background-color: var(--jp-layout-color0, white);\n",
       "  --xr-background-color-row-even: var(--jp-layout-color1, white);\n",
       "  --xr-background-color-row-odd: var(--jp-layout-color2, #eeeeee);\n",
       "}\n",
       "\n",
       "html[theme=dark],\n",
       "body.vscode-dark {\n",
       "  --xr-font-color0: rgba(255, 255, 255, 1);\n",
       "  --xr-font-color2: rgba(255, 255, 255, 0.54);\n",
       "  --xr-font-color3: rgba(255, 255, 255, 0.38);\n",
       "  --xr-border-color: #1F1F1F;\n",
       "  --xr-disabled-color: #515151;\n",
       "  --xr-background-color: #111111;\n",
       "  --xr-background-color-row-even: #111111;\n",
       "  --xr-background-color-row-odd: #313131;\n",
       "}\n",
       "\n",
       ".xr-wrap {\n",
       "  display: block !important;\n",
       "  min-width: 300px;\n",
       "  max-width: 700px;\n",
       "}\n",
       "\n",
       ".xr-text-repr-fallback {\n",
       "  /* fallback to plain text repr when CSS is not injected (untrusted notebook) */\n",
       "  display: none;\n",
       "}\n",
       "\n",
       ".xr-header {\n",
       "  padding-top: 6px;\n",
       "  padding-bottom: 6px;\n",
       "  margin-bottom: 4px;\n",
       "  border-bottom: solid 1px var(--xr-border-color);\n",
       "}\n",
       "\n",
       ".xr-header > div,\n",
       ".xr-header > ul {\n",
       "  display: inline;\n",
       "  margin-top: 0;\n",
       "  margin-bottom: 0;\n",
       "}\n",
       "\n",
       ".xr-obj-type,\n",
       ".xr-array-name {\n",
       "  margin-left: 2px;\n",
       "  margin-right: 10px;\n",
       "}\n",
       "\n",
       ".xr-obj-type {\n",
       "  color: var(--xr-font-color2);\n",
       "}\n",
       "\n",
       ".xr-sections {\n",
       "  padding-left: 0 !important;\n",
       "  display: grid;\n",
       "  grid-template-columns: 150px auto auto 1fr 20px 20px;\n",
       "}\n",
       "\n",
       ".xr-section-item {\n",
       "  display: contents;\n",
       "}\n",
       "\n",
       ".xr-section-item input {\n",
       "  display: none;\n",
       "}\n",
       "\n",
       ".xr-section-item input + label {\n",
       "  color: var(--xr-disabled-color);\n",
       "}\n",
       "\n",
       ".xr-section-item input:enabled + label {\n",
       "  cursor: pointer;\n",
       "  color: var(--xr-font-color2);\n",
       "}\n",
       "\n",
       ".xr-section-item input:enabled + label:hover {\n",
       "  color: var(--xr-font-color0);\n",
       "}\n",
       "\n",
       ".xr-section-summary {\n",
       "  grid-column: 1;\n",
       "  color: var(--xr-font-color2);\n",
       "  font-weight: 500;\n",
       "}\n",
       "\n",
       ".xr-section-summary > span {\n",
       "  display: inline-block;\n",
       "  padding-left: 0.5em;\n",
       "}\n",
       "\n",
       ".xr-section-summary-in:disabled + label {\n",
       "  color: var(--xr-font-color2);\n",
       "}\n",
       "\n",
       ".xr-section-summary-in + label:before {\n",
       "  display: inline-block;\n",
       "  content: '►';\n",
       "  font-size: 11px;\n",
       "  width: 15px;\n",
       "  text-align: center;\n",
       "}\n",
       "\n",
       ".xr-section-summary-in:disabled + label:before {\n",
       "  color: var(--xr-disabled-color);\n",
       "}\n",
       "\n",
       ".xr-section-summary-in:checked + label:before {\n",
       "  content: '▼';\n",
       "}\n",
       "\n",
       ".xr-section-summary-in:checked + label > span {\n",
       "  display: none;\n",
       "}\n",
       "\n",
       ".xr-section-summary,\n",
       ".xr-section-inline-details {\n",
       "  padding-top: 4px;\n",
       "  padding-bottom: 4px;\n",
       "}\n",
       "\n",
       ".xr-section-inline-details {\n",
       "  grid-column: 2 / -1;\n",
       "}\n",
       "\n",
       ".xr-section-details {\n",
       "  display: none;\n",
       "  grid-column: 1 / -1;\n",
       "  margin-bottom: 5px;\n",
       "}\n",
       "\n",
       ".xr-section-summary-in:checked ~ .xr-section-details {\n",
       "  display: contents;\n",
       "}\n",
       "\n",
       ".xr-array-wrap {\n",
       "  grid-column: 1 / -1;\n",
       "  display: grid;\n",
       "  grid-template-columns: 20px auto;\n",
       "}\n",
       "\n",
       ".xr-array-wrap > label {\n",
       "  grid-column: 1;\n",
       "  vertical-align: top;\n",
       "}\n",
       "\n",
       ".xr-preview {\n",
       "  color: var(--xr-font-color3);\n",
       "}\n",
       "\n",
       ".xr-array-preview,\n",
       ".xr-array-data {\n",
       "  padding: 0 5px !important;\n",
       "  grid-column: 2;\n",
       "}\n",
       "\n",
       ".xr-array-data,\n",
       ".xr-array-in:checked ~ .xr-array-preview {\n",
       "  display: none;\n",
       "}\n",
       "\n",
       ".xr-array-in:checked ~ .xr-array-data,\n",
       ".xr-array-preview {\n",
       "  display: inline-block;\n",
       "}\n",
       "\n",
       ".xr-dim-list {\n",
       "  display: inline-block !important;\n",
       "  list-style: none;\n",
       "  padding: 0 !important;\n",
       "  margin: 0;\n",
       "}\n",
       "\n",
       ".xr-dim-list li {\n",
       "  display: inline-block;\n",
       "  padding: 0;\n",
       "  margin: 0;\n",
       "}\n",
       "\n",
       ".xr-dim-list:before {\n",
       "  content: '(';\n",
       "}\n",
       "\n",
       ".xr-dim-list:after {\n",
       "  content: ')';\n",
       "}\n",
       "\n",
       ".xr-dim-list li:not(:last-child):after {\n",
       "  content: ',';\n",
       "  padding-right: 5px;\n",
       "}\n",
       "\n",
       ".xr-has-index {\n",
       "  font-weight: bold;\n",
       "}\n",
       "\n",
       ".xr-var-list,\n",
       ".xr-var-item {\n",
       "  display: contents;\n",
       "}\n",
       "\n",
       ".xr-var-item > div,\n",
       ".xr-var-item label,\n",
       ".xr-var-item > .xr-var-name span {\n",
       "  background-color: var(--xr-background-color-row-even);\n",
       "  margin-bottom: 0;\n",
       "}\n",
       "\n",
       ".xr-var-item > .xr-var-name:hover span {\n",
       "  padding-right: 5px;\n",
       "}\n",
       "\n",
       ".xr-var-list > li:nth-child(odd) > div,\n",
       ".xr-var-list > li:nth-child(odd) > label,\n",
       ".xr-var-list > li:nth-child(odd) > .xr-var-name span {\n",
       "  background-color: var(--xr-background-color-row-odd);\n",
       "}\n",
       "\n",
       ".xr-var-name {\n",
       "  grid-column: 1;\n",
       "}\n",
       "\n",
       ".xr-var-dims {\n",
       "  grid-column: 2;\n",
       "}\n",
       "\n",
       ".xr-var-dtype {\n",
       "  grid-column: 3;\n",
       "  text-align: right;\n",
       "  color: var(--xr-font-color2);\n",
       "}\n",
       "\n",
       ".xr-var-preview {\n",
       "  grid-column: 4;\n",
       "}\n",
       "\n",
       ".xr-var-name,\n",
       ".xr-var-dims,\n",
       ".xr-var-dtype,\n",
       ".xr-preview,\n",
       ".xr-attrs dt {\n",
       "  white-space: nowrap;\n",
       "  overflow: hidden;\n",
       "  text-overflow: ellipsis;\n",
       "  padding-right: 10px;\n",
       "}\n",
       "\n",
       ".xr-var-name:hover,\n",
       ".xr-var-dims:hover,\n",
       ".xr-var-dtype:hover,\n",
       ".xr-attrs dt:hover {\n",
       "  overflow: visible;\n",
       "  width: auto;\n",
       "  z-index: 1;\n",
       "}\n",
       "\n",
       ".xr-var-attrs,\n",
       ".xr-var-data {\n",
       "  display: none;\n",
       "  background-color: var(--xr-background-color) !important;\n",
       "  padding-bottom: 5px !important;\n",
       "}\n",
       "\n",
       ".xr-var-attrs-in:checked ~ .xr-var-attrs,\n",
       ".xr-var-data-in:checked ~ .xr-var-data {\n",
       "  display: block;\n",
       "}\n",
       "\n",
       ".xr-var-data > table {\n",
       "  float: right;\n",
       "}\n",
       "\n",
       ".xr-var-name span,\n",
       ".xr-var-data,\n",
       ".xr-attrs {\n",
       "  padding-left: 25px !important;\n",
       "}\n",
       "\n",
       ".xr-attrs,\n",
       ".xr-var-attrs,\n",
       ".xr-var-data {\n",
       "  grid-column: 1 / -1;\n",
       "}\n",
       "\n",
       "dl.xr-attrs {\n",
       "  padding: 0;\n",
       "  margin: 0;\n",
       "  display: grid;\n",
       "  grid-template-columns: 125px auto;\n",
       "}\n",
       "\n",
       ".xr-attrs dt,\n",
       ".xr-attrs dd {\n",
       "  padding: 0;\n",
       "  margin: 0;\n",
       "  float: left;\n",
       "  padding-right: 10px;\n",
       "  width: auto;\n",
       "}\n",
       "\n",
       ".xr-attrs dt {\n",
       "  font-weight: normal;\n",
       "  grid-column: 1;\n",
       "}\n",
       "\n",
       ".xr-attrs dt:hover span {\n",
       "  display: inline-block;\n",
       "  background: var(--xr-background-color);\n",
       "  padding-right: 10px;\n",
       "}\n",
       "\n",
       ".xr-attrs dd {\n",
       "  grid-column: 2;\n",
       "  white-space: pre-wrap;\n",
       "  word-break: break-all;\n",
       "}\n",
       "\n",
       ".xr-icon-database,\n",
       ".xr-icon-file-text2 {\n",
       "  display: inline-block;\n",
       "  vertical-align: middle;\n",
       "  width: 1em;\n",
       "  height: 1.5em !important;\n",
       "  stroke-width: 0;\n",
       "  stroke: currentColor;\n",
       "  fill: currentColor;\n",
       "}\n",
       "</style><pre class='xr-text-repr-fallback'>&lt;xarray.Dataset&gt;\n",
       "Dimensions:     (traj: 100, obs: 673)\n",
       "Dimensions without coordinates: traj, obs\n",
       "Data variables:\n",
       "    time        (traj, obs) datetime64[ns] 2019-05-01 ... 2019-05-29\n",
       "    trajectory  (traj, obs) float64 0.0 0.0 0.0 0.0 0.0 ... 99.0 99.0 99.0 99.0\n",
       "    lon         (traj, obs) float32 8.198 8.2 8.201 8.204 ... 9.744 9.751 9.759\n",
       "    lat         (traj, obs) float32 56.77 56.77 56.77 ... 57.52 57.52 57.53\n",
       "    z           (traj, obs) float32 4.0 4.0 4.0 4.0 4.0 ... 4.0 4.0 4.0 4.0 4.0\n",
       "    topography  (traj, obs) float32 13.86 13.96 13.91 ... 13.13 13.92 15.81\n",
       "Attributes:\n",
       "    feature_type:           trajectory\n",
       "    Conventions:            CF-1.6/CF-1.7\n",
       "    ncei_template_version:  NCEI_NetCDF_Trajectory_Template_v2.0\n",
       "    parcels_version:        2.3.1\n",
       "    parcels_mesh:           spherical</pre><div class='xr-wrap' style='display:none'><div class='xr-header'><div class='xr-obj-type'>xarray.Dataset</div></div><ul class='xr-sections'><li class='xr-section-item'><input id='section-3491245c-59a5-4a32-a11d-ade613789d1f' class='xr-section-summary-in' type='checkbox' disabled ><label for='section-3491245c-59a5-4a32-a11d-ade613789d1f' class='xr-section-summary'  title='Expand/collapse section'>Dimensions:</label><div class='xr-section-inline-details'><ul class='xr-dim-list'><li><span>traj</span>: 100</li><li><span>obs</span>: 673</li></ul></div><div class='xr-section-details'></div></li><li class='xr-section-item'><input id='section-82c4a3ac-bc4d-4db4-a078-9e9176176df7' class='xr-section-summary-in' type='checkbox' disabled ><label for='section-82c4a3ac-bc4d-4db4-a078-9e9176176df7' class='xr-section-summary'  title='Expand/collapse section'>Coordinates: <span>(0)</span></label><div class='xr-section-inline-details'></div><div class='xr-section-details'><ul class='xr-var-list'></ul></div></li><li class='xr-section-item'><input id='section-e1985186-f8bc-43ad-a037-9b1e6daa0cf5' class='xr-section-summary-in' type='checkbox'  checked><label for='section-e1985186-f8bc-43ad-a037-9b1e6daa0cf5' class='xr-section-summary' >Data variables: <span>(6)</span></label><div class='xr-section-inline-details'></div><div class='xr-section-details'><ul class='xr-var-list'><li class='xr-var-item'><div class='xr-var-name'><span>time</span></div><div class='xr-var-dims'>(traj, obs)</div><div class='xr-var-dtype'>datetime64[ns]</div><div class='xr-var-preview xr-preview'>...</div><input id='attrs-526e2e67-9732-4ef1-96c9-03cefe616d44' class='xr-var-attrs-in' type='checkbox' ><label for='attrs-526e2e67-9732-4ef1-96c9-03cefe616d44' title='Show/Hide attributes'><svg class='icon xr-icon-file-text2'><use xlink:href='#icon-file-text2'></use></svg></label><input id='data-779368d2-0c18-4663-be10-e4a9ef75300e' class='xr-var-data-in' type='checkbox'><label for='data-779368d2-0c18-4663-be10-e4a9ef75300e' title='Show/Hide data repr'><svg class='icon xr-icon-database'><use xlink:href='#icon-database'></use></svg></label><div class='xr-var-attrs'><dl class='xr-attrs'><dt><span>long_name :</span></dt><dd></dd><dt><span>standard_name :</span></dt><dd>time</dd><dt><span>axis :</span></dt><dd>T</dd></dl></div><div class='xr-var-data'><pre>array([[&#x27;2019-05-01T00:00:00.000000000&#x27;, &#x27;2019-05-01T01:00:00.000000000&#x27;,\n",
       "        &#x27;2019-05-01T02:00:00.000000000&#x27;, ..., &#x27;2019-05-28T22:00:00.000000000&#x27;,\n",
       "        &#x27;2019-05-28T23:00:00.000000000&#x27;, &#x27;2019-05-29T00:00:00.000000000&#x27;],\n",
       "       [&#x27;2019-05-01T00:00:00.000000000&#x27;, &#x27;2019-05-01T01:00:00.000000000&#x27;,\n",
       "        &#x27;2019-05-01T02:00:00.000000000&#x27;, ..., &#x27;2019-05-28T22:00:00.000000000&#x27;,\n",
       "        &#x27;2019-05-28T23:00:00.000000000&#x27;, &#x27;2019-05-29T00:00:00.000000000&#x27;],\n",
       "       [&#x27;2019-05-01T00:00:00.000000000&#x27;, &#x27;2019-05-01T01:00:00.000000000&#x27;,\n",
       "        &#x27;2019-05-01T02:00:00.000000000&#x27;, ..., &#x27;2019-05-28T22:00:00.000000000&#x27;,\n",
       "        &#x27;2019-05-28T23:00:00.000000000&#x27;, &#x27;2019-05-29T00:00:00.000000000&#x27;],\n",
       "       ...,\n",
       "       [&#x27;2019-05-01T00:00:00.000000000&#x27;, &#x27;2019-05-01T01:00:00.000000000&#x27;,\n",
       "        &#x27;2019-05-01T02:00:00.000000000&#x27;, ..., &#x27;2019-05-28T22:00:00.000000000&#x27;,\n",
       "        &#x27;2019-05-28T23:00:00.000000000&#x27;, &#x27;2019-05-29T00:00:00.000000000&#x27;],\n",
       "       [&#x27;2019-05-01T00:00:00.000000000&#x27;, &#x27;2019-05-01T01:00:00.000000000&#x27;,\n",
       "        &#x27;2019-05-01T02:00:00.000000000&#x27;, ..., &#x27;2019-05-28T22:00:00.000000000&#x27;,\n",
       "        &#x27;2019-05-28T23:00:00.000000000&#x27;, &#x27;2019-05-29T00:00:00.000000000&#x27;],\n",
       "       [&#x27;2019-05-01T00:00:00.000000000&#x27;, &#x27;2019-05-01T01:00:00.000000000&#x27;,\n",
       "        &#x27;2019-05-01T02:00:00.000000000&#x27;, ..., &#x27;2019-05-28T22:00:00.000000000&#x27;,\n",
       "        &#x27;2019-05-28T23:00:00.000000000&#x27;, &#x27;2019-05-29T00:00:00.000000000&#x27;]],\n",
       "      dtype=&#x27;datetime64[ns]&#x27;)</pre></div></li><li class='xr-var-item'><div class='xr-var-name'><span>trajectory</span></div><div class='xr-var-dims'>(traj, obs)</div><div class='xr-var-dtype'>float64</div><div class='xr-var-preview xr-preview'>...</div><input id='attrs-46f81b56-167b-42b3-8686-7c510048390c' class='xr-var-attrs-in' type='checkbox' ><label for='attrs-46f81b56-167b-42b3-8686-7c510048390c' title='Show/Hide attributes'><svg class='icon xr-icon-file-text2'><use xlink:href='#icon-file-text2'></use></svg></label><input id='data-115ea77f-d742-49cd-8b3e-fad4c49b2e1c' class='xr-var-data-in' type='checkbox'><label for='data-115ea77f-d742-49cd-8b3e-fad4c49b2e1c' title='Show/Hide data repr'><svg class='icon xr-icon-database'><use xlink:href='#icon-database'></use></svg></label><div class='xr-var-attrs'><dl class='xr-attrs'><dt><span>long_name :</span></dt><dd>Unique identifier for each particle</dd><dt><span>cf_role :</span></dt><dd>trajectory_id</dd></dl></div><div class='xr-var-data'><pre>array([[ 0.,  0.,  0., ...,  0.,  0.,  0.],\n",
       "       [ 1.,  1.,  1., ...,  1.,  1.,  1.],\n",
       "       [ 2.,  2.,  2., ...,  2.,  2.,  2.],\n",
       "       ...,\n",
       "       [97., 97., 97., ..., 97., 97., 97.],\n",
       "       [98., 98., 98., ..., 98., 98., 98.],\n",
       "       [99., 99., 99., ..., 99., 99., 99.]])</pre></div></li><li class='xr-var-item'><div class='xr-var-name'><span>lon</span></div><div class='xr-var-dims'>(traj, obs)</div><div class='xr-var-dtype'>float32</div><div class='xr-var-preview xr-preview'>...</div><input id='attrs-98f4fe56-3e99-4415-96e2-65a79b619a93' class='xr-var-attrs-in' type='checkbox' ><label for='attrs-98f4fe56-3e99-4415-96e2-65a79b619a93' title='Show/Hide attributes'><svg class='icon xr-icon-file-text2'><use xlink:href='#icon-file-text2'></use></svg></label><input id='data-3b6467ca-f000-4232-8b75-ff448c0965bb' class='xr-var-data-in' type='checkbox'><label for='data-3b6467ca-f000-4232-8b75-ff448c0965bb' title='Show/Hide data repr'><svg class='icon xr-icon-database'><use xlink:href='#icon-database'></use></svg></label><div class='xr-var-attrs'><dl class='xr-attrs'><dt><span>long_name :</span></dt><dd></dd><dt><span>standard_name :</span></dt><dd>longitude</dd><dt><span>units :</span></dt><dd>degrees_east</dd><dt><span>axis :</span></dt><dd>X</dd></dl></div><div class='xr-var-data'><pre>array([[ 8.198111,  8.199614,  8.201346, ...,  9.511423,  9.518415,  9.525297],\n",
       "       [ 8.195366,  8.198681,  8.201217, ..., 10.03027 , 10.030283, 10.03029 ],\n",
       "       [ 8.183072,  8.188288,  8.19229 , ...,  9.764297,  9.772142,  9.779876],\n",
       "       ...,\n",
       "       [ 8.191452,  8.194161,  8.196713, ...,  9.755329,  9.762385,  9.769359],\n",
       "       [ 8.181499,  8.185028,  8.188247, ..., 10.030299, 10.030299, 10.030299],\n",
       "       [ 8.173643,  8.182608,  8.190687, ...,  9.743947,  9.751361,  9.75876 ]],\n",
       "      dtype=float32)</pre></div></li><li class='xr-var-item'><div class='xr-var-name'><span>lat</span></div><div class='xr-var-dims'>(traj, obs)</div><div class='xr-var-dtype'>float32</div><div class='xr-var-preview xr-preview'>...</div><input id='attrs-29485c5f-ceb5-490d-be61-299b8bbbf3f0' class='xr-var-attrs-in' type='checkbox' ><label for='attrs-29485c5f-ceb5-490d-be61-299b8bbbf3f0' title='Show/Hide attributes'><svg class='icon xr-icon-file-text2'><use xlink:href='#icon-file-text2'></use></svg></label><input id='data-0580a695-5d58-4dd9-8a27-33bfde18d754' class='xr-var-data-in' type='checkbox'><label for='data-0580a695-5d58-4dd9-8a27-33bfde18d754' title='Show/Hide data repr'><svg class='icon xr-icon-database'><use xlink:href='#icon-database'></use></svg></label><div class='xr-var-attrs'><dl class='xr-attrs'><dt><span>long_name :</span></dt><dd></dd><dt><span>standard_name :</span></dt><dd>latitude</dd><dt><span>units :</span></dt><dd>degrees_north</dd><dt><span>axis :</span></dt><dd>Y</dd></dl></div><div class='xr-var-data'><pre>array([[56.76581 , 56.769142, 56.77359 , ..., 57.363728, 57.36664 , 57.369736],\n",
       "       [56.729595, 56.73122 , 56.73335 , ..., 57.64765 , 57.64765 , 57.64765 ],\n",
       "       [56.732376, 56.73525 , 56.738976, ..., 57.54383 , 57.54952 , 57.55556 ],\n",
       "       ...,\n",
       "       [56.744522, 56.74745 , 56.75142 , ..., 57.496166, 57.502155, 57.508286],\n",
       "       [56.74581 , 56.749146, 56.753654, ..., 57.679165, 57.679165, 57.679165],\n",
       "       [56.71426 , 56.718506, 56.722744, ..., 57.517845, 57.523354, 57.529312]],\n",
       "      dtype=float32)</pre></div></li><li class='xr-var-item'><div class='xr-var-name'><span>z</span></div><div class='xr-var-dims'>(traj, obs)</div><div class='xr-var-dtype'>float32</div><div class='xr-var-preview xr-preview'>...</div><input id='attrs-a8f7f85c-45ef-4063-8580-17e47b7994b3' class='xr-var-attrs-in' type='checkbox' ><label for='attrs-a8f7f85c-45ef-4063-8580-17e47b7994b3' title='Show/Hide attributes'><svg class='icon xr-icon-file-text2'><use xlink:href='#icon-file-text2'></use></svg></label><input id='data-ded6d84d-ce05-465b-a80a-cbc0c1c69408' class='xr-var-data-in' type='checkbox'><label for='data-ded6d84d-ce05-465b-a80a-cbc0c1c69408' title='Show/Hide data repr'><svg class='icon xr-icon-database'><use xlink:href='#icon-database'></use></svg></label><div class='xr-var-attrs'><dl class='xr-attrs'><dt><span>long_name :</span></dt><dd></dd><dt><span>standard_name :</span></dt><dd>depth</dd><dt><span>units :</span></dt><dd>m</dd><dt><span>positive :</span></dt><dd>down</dd></dl></div><div class='xr-var-data'><pre>array([[4., 4., 4., ..., 4., 4., 4.],\n",
       "       [4., 4., 4., ..., 4., 4., 4.],\n",
       "       [4., 4., 4., ..., 4., 4., 4.],\n",
       "       ...,\n",
       "       [4., 4., 4., ..., 4., 4., 4.],\n",
       "       [4., 4., 4., ..., 4., 4., 4.],\n",
       "       [4., 4., 4., ..., 4., 4., 4.]], dtype=float32)</pre></div></li><li class='xr-var-item'><div class='xr-var-name'><span>topography</span></div><div class='xr-var-dims'>(traj, obs)</div><div class='xr-var-dtype'>float32</div><div class='xr-var-preview xr-preview'>...</div><input id='attrs-4318f484-9e87-4be8-be35-2b14e532574c' class='xr-var-attrs-in' type='checkbox' ><label for='attrs-4318f484-9e87-4be8-be35-2b14e532574c' title='Show/Hide attributes'><svg class='icon xr-icon-file-text2'><use xlink:href='#icon-file-text2'></use></svg></label><input id='data-704d01a1-99d4-4bce-b167-ba3229044cd1' class='xr-var-data-in' type='checkbox'><label for='data-704d01a1-99d4-4bce-b167-ba3229044cd1' title='Show/Hide data repr'><svg class='icon xr-icon-database'><use xlink:href='#icon-database'></use></svg></label><div class='xr-var-attrs'><dl class='xr-attrs'><dt><span>long_name :</span></dt><dd></dd><dt><span>standard_name :</span></dt><dd>topography</dd><dt><span>units :</span></dt><dd>unknown</dd></dl></div><div class='xr-var-data'><pre>array([[1.386010e+01, 1.395530e+01, 1.391074e+01, ..., 1.056367e+01,\n",
       "        1.058665e+01, 1.119940e+01],\n",
       "       [8.289022e+00, 6.960472e+00, 6.255649e+00, ..., 1.977102e-02,\n",
       "        1.112120e-02, 6.796288e-03],\n",
       "       [1.442021e+01, 1.223399e+01, 1.099910e+01, ..., 1.794317e+01,\n",
       "        1.587094e+01, 1.514757e+01],\n",
       "       ...,\n",
       "       [1.197178e+01, 1.156138e+01, 1.157158e+01, ..., 1.358131e+01,\n",
       "        1.353597e+01, 1.118309e+01],\n",
       "       [1.505287e+01, 1.417228e+01, 1.369582e+01, ..., 6.701601e-04,\n",
       "        6.701601e-04, 6.701601e-04],\n",
       "       [1.134902e+01, 1.067165e+01, 9.538059e+00, ..., 1.312971e+01,\n",
       "        1.391833e+01, 1.581142e+01]], dtype=float32)</pre></div></li></ul></div></li><li class='xr-section-item'><input id='section-fd93a3c3-6c68-4690-a6a6-f926e32f71f4' class='xr-section-summary-in' type='checkbox'  checked><label for='section-fd93a3c3-6c68-4690-a6a6-f926e32f71f4' class='xr-section-summary' >Attributes: <span>(5)</span></label><div class='xr-section-inline-details'></div><div class='xr-section-details'><dl class='xr-attrs'><dt><span>feature_type :</span></dt><dd>trajectory</dd><dt><span>Conventions :</span></dt><dd>CF-1.6/CF-1.7</dd><dt><span>ncei_template_version :</span></dt><dd>NCEI_NetCDF_Trajectory_Template_v2.0</dd><dt><span>parcels_version :</span></dt><dd>2.3.1</dd><dt><span>parcels_mesh :</span></dt><dd>spherical</dd></dl></div></li></ul></div></div>"
      ],
      "text/plain": [
       "<xarray.Dataset>\n",
       "Dimensions:     (traj: 100, obs: 673)\n",
       "Dimensions without coordinates: traj, obs\n",
       "Data variables:\n",
       "    time        (traj, obs) datetime64[ns] ...\n",
       "    trajectory  (traj, obs) float64 ...\n",
       "    lon         (traj, obs) float32 ...\n",
       "    lat         (traj, obs) float32 ...\n",
       "    z           (traj, obs) float32 ...\n",
       "    topography  (traj, obs) float32 ...\n",
       "Attributes:\n",
       "    feature_type:           trajectory\n",
       "    Conventions:            CF-1.6/CF-1.7\n",
       "    ncei_template_version:  NCEI_NetCDF_Trajectory_Template_v2.0\n",
       "    parcels_version:        2.3.1\n",
       "    parcels_mesh:           spherical"
      ]
     },
     "execution_count": 32,
     "metadata": {},
     "output_type": "execute_result"
    }
   ],
   "source": [
    "particle_ds = xr.open_dataset(outfile)\n",
    "particle_ds"
   ]
  },
  {
   "cell_type": "code",
   "execution_count": 33,
   "id": "steady-means",
   "metadata": {},
   "outputs": [
    {
     "data": {
      "text/html": [
       "<div><svg style=\"position: absolute; width: 0; height: 0; overflow: hidden\">\n",
       "<defs>\n",
       "<symbol id=\"icon-database\" viewBox=\"0 0 32 32\">\n",
       "<path d=\"M16 0c-8.837 0-16 2.239-16 5v4c0 2.761 7.163 5 16 5s16-2.239 16-5v-4c0-2.761-7.163-5-16-5z\"></path>\n",
       "<path d=\"M16 17c-8.837 0-16-2.239-16-5v6c0 2.761 7.163 5 16 5s16-2.239 16-5v-6c0 2.761-7.163 5-16 5z\"></path>\n",
       "<path d=\"M16 26c-8.837 0-16-2.239-16-5v6c0 2.761 7.163 5 16 5s16-2.239 16-5v-6c0 2.761-7.163 5-16 5z\"></path>\n",
       "</symbol>\n",
       "<symbol id=\"icon-file-text2\" viewBox=\"0 0 32 32\">\n",
       "<path d=\"M28.681 7.159c-0.694-0.947-1.662-2.053-2.724-3.116s-2.169-2.030-3.116-2.724c-1.612-1.182-2.393-1.319-2.841-1.319h-15.5c-1.378 0-2.5 1.121-2.5 2.5v27c0 1.378 1.122 2.5 2.5 2.5h23c1.378 0 2.5-1.122 2.5-2.5v-19.5c0-0.448-0.137-1.23-1.319-2.841zM24.543 5.457c0.959 0.959 1.712 1.825 2.268 2.543h-4.811v-4.811c0.718 0.556 1.584 1.309 2.543 2.268zM28 29.5c0 0.271-0.229 0.5-0.5 0.5h-23c-0.271 0-0.5-0.229-0.5-0.5v-27c0-0.271 0.229-0.5 0.5-0.5 0 0 15.499-0 15.5 0v7c0 0.552 0.448 1 1 1h7v19.5z\"></path>\n",
       "<path d=\"M23 26h-14c-0.552 0-1-0.448-1-1s0.448-1 1-1h14c0.552 0 1 0.448 1 1s-0.448 1-1 1z\"></path>\n",
       "<path d=\"M23 22h-14c-0.552 0-1-0.448-1-1s0.448-1 1-1h14c0.552 0 1 0.448 1 1s-0.448 1-1 1z\"></path>\n",
       "<path d=\"M23 18h-14c-0.552 0-1-0.448-1-1s0.448-1 1-1h14c0.552 0 1 0.448 1 1s-0.448 1-1 1z\"></path>\n",
       "</symbol>\n",
       "</defs>\n",
       "</svg>\n",
       "<style>/* CSS stylesheet for displaying xarray objects in jupyterlab.\n",
       " *\n",
       " */\n",
       "\n",
       ":root {\n",
       "  --xr-font-color0: var(--jp-content-font-color0, rgba(0, 0, 0, 1));\n",
       "  --xr-font-color2: var(--jp-content-font-color2, rgba(0, 0, 0, 0.54));\n",
       "  --xr-font-color3: var(--jp-content-font-color3, rgba(0, 0, 0, 0.38));\n",
       "  --xr-border-color: var(--jp-border-color2, #e0e0e0);\n",
       "  --xr-disabled-color: var(--jp-layout-color3, #bdbdbd);\n",
       "  --xr-background-color: var(--jp-layout-color0, white);\n",
       "  --xr-background-color-row-even: var(--jp-layout-color1, white);\n",
       "  --xr-background-color-row-odd: var(--jp-layout-color2, #eeeeee);\n",
       "}\n",
       "\n",
       "html[theme=dark],\n",
       "body.vscode-dark {\n",
       "  --xr-font-color0: rgba(255, 255, 255, 1);\n",
       "  --xr-font-color2: rgba(255, 255, 255, 0.54);\n",
       "  --xr-font-color3: rgba(255, 255, 255, 0.38);\n",
       "  --xr-border-color: #1F1F1F;\n",
       "  --xr-disabled-color: #515151;\n",
       "  --xr-background-color: #111111;\n",
       "  --xr-background-color-row-even: #111111;\n",
       "  --xr-background-color-row-odd: #313131;\n",
       "}\n",
       "\n",
       ".xr-wrap {\n",
       "  display: block !important;\n",
       "  min-width: 300px;\n",
       "  max-width: 700px;\n",
       "}\n",
       "\n",
       ".xr-text-repr-fallback {\n",
       "  /* fallback to plain text repr when CSS is not injected (untrusted notebook) */\n",
       "  display: none;\n",
       "}\n",
       "\n",
       ".xr-header {\n",
       "  padding-top: 6px;\n",
       "  padding-bottom: 6px;\n",
       "  margin-bottom: 4px;\n",
       "  border-bottom: solid 1px var(--xr-border-color);\n",
       "}\n",
       "\n",
       ".xr-header > div,\n",
       ".xr-header > ul {\n",
       "  display: inline;\n",
       "  margin-top: 0;\n",
       "  margin-bottom: 0;\n",
       "}\n",
       "\n",
       ".xr-obj-type,\n",
       ".xr-array-name {\n",
       "  margin-left: 2px;\n",
       "  margin-right: 10px;\n",
       "}\n",
       "\n",
       ".xr-obj-type {\n",
       "  color: var(--xr-font-color2);\n",
       "}\n",
       "\n",
       ".xr-sections {\n",
       "  padding-left: 0 !important;\n",
       "  display: grid;\n",
       "  grid-template-columns: 150px auto auto 1fr 20px 20px;\n",
       "}\n",
       "\n",
       ".xr-section-item {\n",
       "  display: contents;\n",
       "}\n",
       "\n",
       ".xr-section-item input {\n",
       "  display: none;\n",
       "}\n",
       "\n",
       ".xr-section-item input + label {\n",
       "  color: var(--xr-disabled-color);\n",
       "}\n",
       "\n",
       ".xr-section-item input:enabled + label {\n",
       "  cursor: pointer;\n",
       "  color: var(--xr-font-color2);\n",
       "}\n",
       "\n",
       ".xr-section-item input:enabled + label:hover {\n",
       "  color: var(--xr-font-color0);\n",
       "}\n",
       "\n",
       ".xr-section-summary {\n",
       "  grid-column: 1;\n",
       "  color: var(--xr-font-color2);\n",
       "  font-weight: 500;\n",
       "}\n",
       "\n",
       ".xr-section-summary > span {\n",
       "  display: inline-block;\n",
       "  padding-left: 0.5em;\n",
       "}\n",
       "\n",
       ".xr-section-summary-in:disabled + label {\n",
       "  color: var(--xr-font-color2);\n",
       "}\n",
       "\n",
       ".xr-section-summary-in + label:before {\n",
       "  display: inline-block;\n",
       "  content: '►';\n",
       "  font-size: 11px;\n",
       "  width: 15px;\n",
       "  text-align: center;\n",
       "}\n",
       "\n",
       ".xr-section-summary-in:disabled + label:before {\n",
       "  color: var(--xr-disabled-color);\n",
       "}\n",
       "\n",
       ".xr-section-summary-in:checked + label:before {\n",
       "  content: '▼';\n",
       "}\n",
       "\n",
       ".xr-section-summary-in:checked + label > span {\n",
       "  display: none;\n",
       "}\n",
       "\n",
       ".xr-section-summary,\n",
       ".xr-section-inline-details {\n",
       "  padding-top: 4px;\n",
       "  padding-bottom: 4px;\n",
       "}\n",
       "\n",
       ".xr-section-inline-details {\n",
       "  grid-column: 2 / -1;\n",
       "}\n",
       "\n",
       ".xr-section-details {\n",
       "  display: none;\n",
       "  grid-column: 1 / -1;\n",
       "  margin-bottom: 5px;\n",
       "}\n",
       "\n",
       ".xr-section-summary-in:checked ~ .xr-section-details {\n",
       "  display: contents;\n",
       "}\n",
       "\n",
       ".xr-array-wrap {\n",
       "  grid-column: 1 / -1;\n",
       "  display: grid;\n",
       "  grid-template-columns: 20px auto;\n",
       "}\n",
       "\n",
       ".xr-array-wrap > label {\n",
       "  grid-column: 1;\n",
       "  vertical-align: top;\n",
       "}\n",
       "\n",
       ".xr-preview {\n",
       "  color: var(--xr-font-color3);\n",
       "}\n",
       "\n",
       ".xr-array-preview,\n",
       ".xr-array-data {\n",
       "  padding: 0 5px !important;\n",
       "  grid-column: 2;\n",
       "}\n",
       "\n",
       ".xr-array-data,\n",
       ".xr-array-in:checked ~ .xr-array-preview {\n",
       "  display: none;\n",
       "}\n",
       "\n",
       ".xr-array-in:checked ~ .xr-array-data,\n",
       ".xr-array-preview {\n",
       "  display: inline-block;\n",
       "}\n",
       "\n",
       ".xr-dim-list {\n",
       "  display: inline-block !important;\n",
       "  list-style: none;\n",
       "  padding: 0 !important;\n",
       "  margin: 0;\n",
       "}\n",
       "\n",
       ".xr-dim-list li {\n",
       "  display: inline-block;\n",
       "  padding: 0;\n",
       "  margin: 0;\n",
       "}\n",
       "\n",
       ".xr-dim-list:before {\n",
       "  content: '(';\n",
       "}\n",
       "\n",
       ".xr-dim-list:after {\n",
       "  content: ')';\n",
       "}\n",
       "\n",
       ".xr-dim-list li:not(:last-child):after {\n",
       "  content: ',';\n",
       "  padding-right: 5px;\n",
       "}\n",
       "\n",
       ".xr-has-index {\n",
       "  font-weight: bold;\n",
       "}\n",
       "\n",
       ".xr-var-list,\n",
       ".xr-var-item {\n",
       "  display: contents;\n",
       "}\n",
       "\n",
       ".xr-var-item > div,\n",
       ".xr-var-item label,\n",
       ".xr-var-item > .xr-var-name span {\n",
       "  background-color: var(--xr-background-color-row-even);\n",
       "  margin-bottom: 0;\n",
       "}\n",
       "\n",
       ".xr-var-item > .xr-var-name:hover span {\n",
       "  padding-right: 5px;\n",
       "}\n",
       "\n",
       ".xr-var-list > li:nth-child(odd) > div,\n",
       ".xr-var-list > li:nth-child(odd) > label,\n",
       ".xr-var-list > li:nth-child(odd) > .xr-var-name span {\n",
       "  background-color: var(--xr-background-color-row-odd);\n",
       "}\n",
       "\n",
       ".xr-var-name {\n",
       "  grid-column: 1;\n",
       "}\n",
       "\n",
       ".xr-var-dims {\n",
       "  grid-column: 2;\n",
       "}\n",
       "\n",
       ".xr-var-dtype {\n",
       "  grid-column: 3;\n",
       "  text-align: right;\n",
       "  color: var(--xr-font-color2);\n",
       "}\n",
       "\n",
       ".xr-var-preview {\n",
       "  grid-column: 4;\n",
       "}\n",
       "\n",
       ".xr-var-name,\n",
       ".xr-var-dims,\n",
       ".xr-var-dtype,\n",
       ".xr-preview,\n",
       ".xr-attrs dt {\n",
       "  white-space: nowrap;\n",
       "  overflow: hidden;\n",
       "  text-overflow: ellipsis;\n",
       "  padding-right: 10px;\n",
       "}\n",
       "\n",
       ".xr-var-name:hover,\n",
       ".xr-var-dims:hover,\n",
       ".xr-var-dtype:hover,\n",
       ".xr-attrs dt:hover {\n",
       "  overflow: visible;\n",
       "  width: auto;\n",
       "  z-index: 1;\n",
       "}\n",
       "\n",
       ".xr-var-attrs,\n",
       ".xr-var-data {\n",
       "  display: none;\n",
       "  background-color: var(--xr-background-color) !important;\n",
       "  padding-bottom: 5px !important;\n",
       "}\n",
       "\n",
       ".xr-var-attrs-in:checked ~ .xr-var-attrs,\n",
       ".xr-var-data-in:checked ~ .xr-var-data {\n",
       "  display: block;\n",
       "}\n",
       "\n",
       ".xr-var-data > table {\n",
       "  float: right;\n",
       "}\n",
       "\n",
       ".xr-var-name span,\n",
       ".xr-var-data,\n",
       ".xr-attrs {\n",
       "  padding-left: 25px !important;\n",
       "}\n",
       "\n",
       ".xr-attrs,\n",
       ".xr-var-attrs,\n",
       ".xr-var-data {\n",
       "  grid-column: 1 / -1;\n",
       "}\n",
       "\n",
       "dl.xr-attrs {\n",
       "  padding: 0;\n",
       "  margin: 0;\n",
       "  display: grid;\n",
       "  grid-template-columns: 125px auto;\n",
       "}\n",
       "\n",
       ".xr-attrs dt,\n",
       ".xr-attrs dd {\n",
       "  padding: 0;\n",
       "  margin: 0;\n",
       "  float: left;\n",
       "  padding-right: 10px;\n",
       "  width: auto;\n",
       "}\n",
       "\n",
       ".xr-attrs dt {\n",
       "  font-weight: normal;\n",
       "  grid-column: 1;\n",
       "}\n",
       "\n",
       ".xr-attrs dt:hover span {\n",
       "  display: inline-block;\n",
       "  background: var(--xr-background-color);\n",
       "  padding-right: 10px;\n",
       "}\n",
       "\n",
       ".xr-attrs dd {\n",
       "  grid-column: 2;\n",
       "  white-space: pre-wrap;\n",
       "  word-break: break-all;\n",
       "}\n",
       "\n",
       ".xr-icon-database,\n",
       ".xr-icon-file-text2 {\n",
       "  display: inline-block;\n",
       "  vertical-align: middle;\n",
       "  width: 1em;\n",
       "  height: 1.5em !important;\n",
       "  stroke-width: 0;\n",
       "  stroke: currentColor;\n",
       "  fill: currentColor;\n",
       "}\n",
       "</style><pre class='xr-text-repr-fallback'>&lt;xarray.Dataset&gt;\n",
       "Dimensions:  (time: 24, lat: 1240, lon: 958, depth: 33)\n",
       "Coordinates:\n",
       "  * time     (time) datetime64[ns] 2022-01-01T01:00:00 ... 2022-01-02\n",
       "  * lat      (lat) float32 46.0 46.01 46.03 46.04 ... 62.7 62.72 62.73 62.74\n",
       "  * lon      (lon) float32 -16.0 -15.97 -15.94 -15.91 ... 12.91 12.94 12.97 13.0\n",
       "  * depth    (depth) float32 0.0 3.0 5.0 10.0 15.0 ... 2e+03 3e+03 4e+03 5e+03\n",
       "Data variables:\n",
       "    uo       (time, depth, lat, lon) float32 ...\n",
       "    vo       (time, depth, lat, lon) float32 ...\n",
       "Attributes: (12/13)\n",
       "    title:                hourly-instantaneous horizontal velocity (3D)\n",
       "    Conventions:          CF-1.7\n",
       "    source:               PS-OS 45, AMM-FOAM 1.5 km (tidal) NEMO v3.6_WAVEWAT...\n",
       "    contact:              servicedesk.cmems@mercator-ocean.eu\n",
       "    netcdf-version-id:    netCDF-4\n",
       "    references:           http://marine.copernicus.eu/\n",
       "    ...                   ...\n",
       "    institution:          UK Met Office\n",
       "    history:              See source and creation_date attributes\n",
       "    forcing_data_source:  ECMWF Global Atmospheric Model (HRES); CMEMS-MERCAT...\n",
       "    product:              NORTHWESTSHELF_ANALYSIS_FORECAST_PHY_004_013\n",
       "    credit:               E.U. Copernicus Marine Service Information (CMEMS)\n",
       "    licence:              http://marine.copernicus.eu/services-portfolio/serv...</pre><div class='xr-wrap' style='display:none'><div class='xr-header'><div class='xr-obj-type'>xarray.Dataset</div></div><ul class='xr-sections'><li class='xr-section-item'><input id='section-340aceeb-af0c-4b37-a92c-e8467608ef54' class='xr-section-summary-in' type='checkbox' disabled ><label for='section-340aceeb-af0c-4b37-a92c-e8467608ef54' class='xr-section-summary'  title='Expand/collapse section'>Dimensions:</label><div class='xr-section-inline-details'><ul class='xr-dim-list'><li><span class='xr-has-index'>time</span>: 24</li><li><span class='xr-has-index'>lat</span>: 1240</li><li><span class='xr-has-index'>lon</span>: 958</li><li><span class='xr-has-index'>depth</span>: 33</li></ul></div><div class='xr-section-details'></div></li><li class='xr-section-item'><input id='section-32607569-922d-446b-9e16-ea3fdb705d96' class='xr-section-summary-in' type='checkbox'  checked><label for='section-32607569-922d-446b-9e16-ea3fdb705d96' class='xr-section-summary' >Coordinates: <span>(4)</span></label><div class='xr-section-inline-details'></div><div class='xr-section-details'><ul class='xr-var-list'><li class='xr-var-item'><div class='xr-var-name'><span class='xr-has-index'>time</span></div><div class='xr-var-dims'>(time)</div><div class='xr-var-dtype'>datetime64[ns]</div><div class='xr-var-preview xr-preview'>2022-01-01T01:00:00 ... 2022-01-02</div><input id='attrs-43bfface-bcb0-4eb7-bec5-3ce98eb00c73' class='xr-var-attrs-in' type='checkbox' ><label for='attrs-43bfface-bcb0-4eb7-bec5-3ce98eb00c73' title='Show/Hide attributes'><svg class='icon xr-icon-file-text2'><use xlink:href='#icon-file-text2'></use></svg></label><input id='data-9d66834f-000a-44c5-b8ec-9f70eb51e195' class='xr-var-data-in' type='checkbox'><label for='data-9d66834f-000a-44c5-b8ec-9f70eb51e195' title='Show/Hide data repr'><svg class='icon xr-icon-database'><use xlink:href='#icon-database'></use></svg></label><div class='xr-var-attrs'><dl class='xr-attrs'><dt><span>axis :</span></dt><dd>T</dd><dt><span>standard_name :</span></dt><dd>time</dd><dt><span>long_name :</span></dt><dd>Validity time</dd></dl></div><div class='xr-var-data'><pre>array([&#x27;2022-01-01T01:00:00.000000000&#x27;, &#x27;2022-01-01T02:00:00.000000000&#x27;,\n",
       "       &#x27;2022-01-01T03:00:00.000000000&#x27;, &#x27;2022-01-01T04:00:00.000000000&#x27;,\n",
       "       &#x27;2022-01-01T05:00:00.000000000&#x27;, &#x27;2022-01-01T06:00:00.000000000&#x27;,\n",
       "       &#x27;2022-01-01T07:00:00.000000000&#x27;, &#x27;2022-01-01T08:00:00.000000000&#x27;,\n",
       "       &#x27;2022-01-01T09:00:00.000000000&#x27;, &#x27;2022-01-01T10:00:00.000000000&#x27;,\n",
       "       &#x27;2022-01-01T11:00:00.000000000&#x27;, &#x27;2022-01-01T12:00:00.000000000&#x27;,\n",
       "       &#x27;2022-01-01T13:00:00.000000000&#x27;, &#x27;2022-01-01T14:00:00.000000000&#x27;,\n",
       "       &#x27;2022-01-01T15:00:00.000000000&#x27;, &#x27;2022-01-01T16:00:00.000000000&#x27;,\n",
       "       &#x27;2022-01-01T17:00:00.000000000&#x27;, &#x27;2022-01-01T18:00:00.000000000&#x27;,\n",
       "       &#x27;2022-01-01T19:00:00.000000000&#x27;, &#x27;2022-01-01T20:00:00.000000000&#x27;,\n",
       "       &#x27;2022-01-01T21:00:00.000000000&#x27;, &#x27;2022-01-01T22:00:00.000000000&#x27;,\n",
       "       &#x27;2022-01-01T23:00:00.000000000&#x27;, &#x27;2022-01-02T00:00:00.000000000&#x27;],\n",
       "      dtype=&#x27;datetime64[ns]&#x27;)</pre></div></li><li class='xr-var-item'><div class='xr-var-name'><span class='xr-has-index'>lat</span></div><div class='xr-var-dims'>(lat)</div><div class='xr-var-dtype'>float32</div><div class='xr-var-preview xr-preview'>46.0 46.01 46.03 ... 62.73 62.74</div><input id='attrs-831490fa-1dbe-4db1-9cdf-2903a3ea6c4e' class='xr-var-attrs-in' type='checkbox' ><label for='attrs-831490fa-1dbe-4db1-9cdf-2903a3ea6c4e' title='Show/Hide attributes'><svg class='icon xr-icon-file-text2'><use xlink:href='#icon-file-text2'></use></svg></label><input id='data-627927f7-eb96-402c-af6a-6f424dd46bc7' class='xr-var-data-in' type='checkbox'><label for='data-627927f7-eb96-402c-af6a-6f424dd46bc7' title='Show/Hide data repr'><svg class='icon xr-icon-database'><use xlink:href='#icon-database'></use></svg></label><div class='xr-var-attrs'><dl class='xr-attrs'><dt><span>axis :</span></dt><dd>Y</dd><dt><span>standard_name :</span></dt><dd>latitude</dd><dt><span>units :</span></dt><dd>degrees_north</dd><dt><span>nav_model :</span></dt><dd>grid_T</dd><dt><span>cell_methods :</span></dt><dd>longitude: mean</dd><dt><span>long_name :</span></dt><dd>latitude</dd></dl></div><div class='xr-var-data'><pre>array([46.     , 46.01351, 46.02703, ..., 62.71622, 62.72973, 62.74324],\n",
       "      dtype=float32)</pre></div></li><li class='xr-var-item'><div class='xr-var-name'><span class='xr-has-index'>lon</span></div><div class='xr-var-dims'>(lon)</div><div class='xr-var-dtype'>float32</div><div class='xr-var-preview xr-preview'>-16.0 -15.97 -15.94 ... 12.97 13.0</div><input id='attrs-14a2e375-f631-494e-826f-f44ce2521f6e' class='xr-var-attrs-in' type='checkbox' ><label for='attrs-14a2e375-f631-494e-826f-f44ce2521f6e' title='Show/Hide attributes'><svg class='icon xr-icon-file-text2'><use xlink:href='#icon-file-text2'></use></svg></label><input id='data-1f9eed7b-c383-485c-96b6-b056f46bd6ec' class='xr-var-data-in' type='checkbox'><label for='data-1f9eed7b-c383-485c-96b6-b056f46bd6ec' title='Show/Hide data repr'><svg class='icon xr-icon-database'><use xlink:href='#icon-database'></use></svg></label><div class='xr-var-attrs'><dl class='xr-attrs'><dt><span>axis :</span></dt><dd>X</dd><dt><span>standard_name :</span></dt><dd>longitude</dd><dt><span>units :</span></dt><dd>degrees_east</dd><dt><span>nav_model :</span></dt><dd>grid_T</dd><dt><span>cell_methods :</span></dt><dd>latitude: mean</dd><dt><span>long_name :</span></dt><dd>longitude</dd></dl></div><div class='xr-var-data'><pre>array([-16.     , -15.9697 , -15.93939, ...,  12.93939,  12.9697 ,  13.     ],\n",
       "      dtype=float32)</pre></div></li><li class='xr-var-item'><div class='xr-var-name'><span class='xr-has-index'>depth</span></div><div class='xr-var-dims'>(depth)</div><div class='xr-var-dtype'>float32</div><div class='xr-var-preview xr-preview'>0.0 3.0 5.0 ... 3e+03 4e+03 5e+03</div><input id='attrs-c3f5f8b0-6352-4413-a98f-a11b9f50d712' class='xr-var-attrs-in' type='checkbox' ><label for='attrs-c3f5f8b0-6352-4413-a98f-a11b9f50d712' title='Show/Hide attributes'><svg class='icon xr-icon-file-text2'><use xlink:href='#icon-file-text2'></use></svg></label><input id='data-836e8311-8285-4cb6-a3c3-17bad89564dd' class='xr-var-data-in' type='checkbox'><label for='data-836e8311-8285-4cb6-a3c3-17bad89564dd' title='Show/Hide data repr'><svg class='icon xr-icon-database'><use xlink:href='#icon-database'></use></svg></label><div class='xr-var-attrs'><dl class='xr-attrs'><dt><span>axis :</span></dt><dd>Z</dd><dt><span>standard_name :</span></dt><dd>depth</dd><dt><span>units :</span></dt><dd>m</dd><dt><span>positive :</span></dt><dd>down</dd><dt><span>long_name :</span></dt><dd>depth</dd></dl></div><div class='xr-var-data'><pre>array([0.00e+00, 3.00e+00, 5.00e+00, 1.00e+01, 1.50e+01, 2.00e+01, 2.50e+01,\n",
       "       3.00e+01, 4.00e+01, 5.00e+01, 6.00e+01, 7.50e+01, 1.00e+02, 1.25e+02,\n",
       "       1.50e+02, 1.75e+02, 2.00e+02, 2.25e+02, 2.50e+02, 3.00e+02, 3.50e+02,\n",
       "       4.00e+02, 4.50e+02, 5.00e+02, 5.50e+02, 6.00e+02, 7.50e+02, 1.00e+03,\n",
       "       1.50e+03, 2.00e+03, 3.00e+03, 4.00e+03, 5.00e+03], dtype=float32)</pre></div></li></ul></div></li><li class='xr-section-item'><input id='section-2ad4a7e6-b648-4445-8f84-9e6761750b71' class='xr-section-summary-in' type='checkbox'  checked><label for='section-2ad4a7e6-b648-4445-8f84-9e6761750b71' class='xr-section-summary' >Data variables: <span>(2)</span></label><div class='xr-section-inline-details'></div><div class='xr-section-details'><ul class='xr-var-list'><li class='xr-var-item'><div class='xr-var-name'><span>uo</span></div><div class='xr-var-dims'>(time, depth, lat, lon)</div><div class='xr-var-dtype'>float32</div><div class='xr-var-preview xr-preview'>...</div><input id='attrs-c8c5c900-fc98-484b-9bda-895c4443ef56' class='xr-var-attrs-in' type='checkbox' ><label for='attrs-c8c5c900-fc98-484b-9bda-895c4443ef56' title='Show/Hide attributes'><svg class='icon xr-icon-file-text2'><use xlink:href='#icon-file-text2'></use></svg></label><input id='data-daaa7b55-98a7-4a95-b282-21b34f216693' class='xr-var-data-in' type='checkbox'><label for='data-daaa7b55-98a7-4a95-b282-21b34f216693' title='Show/Hide data repr'><svg class='icon xr-icon-database'><use xlink:href='#icon-database'></use></svg></label><div class='xr-var-attrs'><dl class='xr-attrs'><dt><span>standard_name :</span></dt><dd>eastward_sea_water_velocity</dd><dt><span>long_name :</span></dt><dd>Eastward Current Velocity in the Water Column</dd><dt><span>units :</span></dt><dd>m s-1</dd><dt><span>valid_min :</span></dt><dd>-20000</dd><dt><span>valid_max :</span></dt><dd>20000</dd></dl></div><div class='xr-var-data'><pre>[940832640 values with dtype=float32]</pre></div></li><li class='xr-var-item'><div class='xr-var-name'><span>vo</span></div><div class='xr-var-dims'>(time, depth, lat, lon)</div><div class='xr-var-dtype'>float32</div><div class='xr-var-preview xr-preview'>...</div><input id='attrs-8a586c00-ef07-465c-a4e1-6bd2e3e3e7e2' class='xr-var-attrs-in' type='checkbox' ><label for='attrs-8a586c00-ef07-465c-a4e1-6bd2e3e3e7e2' title='Show/Hide attributes'><svg class='icon xr-icon-file-text2'><use xlink:href='#icon-file-text2'></use></svg></label><input id='data-05b23d32-9a34-40f9-9261-8a54aa62e3dd' class='xr-var-data-in' type='checkbox'><label for='data-05b23d32-9a34-40f9-9261-8a54aa62e3dd' title='Show/Hide data repr'><svg class='icon xr-icon-database'><use xlink:href='#icon-database'></use></svg></label><div class='xr-var-attrs'><dl class='xr-attrs'><dt><span>standard_name :</span></dt><dd>northward_sea_water_velocity</dd><dt><span>long_name :</span></dt><dd>Northward Current Velocity in the Water Column</dd><dt><span>units :</span></dt><dd>m s-1</dd><dt><span>valid_min :</span></dt><dd>-20000</dd><dt><span>valid_max :</span></dt><dd>20000</dd></dl></div><div class='xr-var-data'><pre>[940832640 values with dtype=float32]</pre></div></li></ul></div></li><li class='xr-section-item'><input id='section-2af9922e-7040-4aeb-bf38-4bbd358bab19' class='xr-section-summary-in' type='checkbox'  ><label for='section-2af9922e-7040-4aeb-bf38-4bbd358bab19' class='xr-section-summary' >Attributes: <span>(13)</span></label><div class='xr-section-inline-details'></div><div class='xr-section-details'><dl class='xr-attrs'><dt><span>title :</span></dt><dd>hourly-instantaneous horizontal velocity (3D)</dd><dt><span>Conventions :</span></dt><dd>CF-1.7</dd><dt><span>source :</span></dt><dd>PS-OS 45, AMM-FOAM 1.5 km (tidal) NEMO v3.6_WAVEWATCH-III v4.18_NEMOVAR v6</dd><dt><span>contact :</span></dt><dd>servicedesk.cmems@mercator-ocean.eu</dd><dt><span>netcdf-version-id :</span></dt><dd>netCDF-4</dd><dt><span>references :</span></dt><dd>http://marine.copernicus.eu/</dd><dt><span>creation_date :</span></dt><dd>2022-02-07T20:42:51Z</dd><dt><span>institution :</span></dt><dd>UK Met Office</dd><dt><span>history :</span></dt><dd>See source and creation_date attributes</dd><dt><span>forcing_data_source :</span></dt><dd>ECMWF Global Atmospheric Model (HRES); CMEMS-MERCATOR12; UKMO GLOWave; CMEMS-BALTIC; climatological rivers</dd><dt><span>product :</span></dt><dd>NORTHWESTSHELF_ANALYSIS_FORECAST_PHY_004_013</dd><dt><span>credit :</span></dt><dd>E.U. Copernicus Marine Service Information (CMEMS)</dd><dt><span>licence :</span></dt><dd>http://marine.copernicus.eu/services-portfolio/service-commitments-and-licence/</dd></dl></div></li></ul></div></div>"
      ],
      "text/plain": [
       "<xarray.Dataset>\n",
       "Dimensions:  (time: 24, lat: 1240, lon: 958, depth: 33)\n",
       "Coordinates:\n",
       "  * time     (time) datetime64[ns] 2022-01-01T01:00:00 ... 2022-01-02\n",
       "  * lat      (lat) float32 46.0 46.01 46.03 46.04 ... 62.7 62.72 62.73 62.74\n",
       "  * lon      (lon) float32 -16.0 -15.97 -15.94 -15.91 ... 12.91 12.94 12.97 13.0\n",
       "  * depth    (depth) float32 0.0 3.0 5.0 10.0 15.0 ... 2e+03 3e+03 4e+03 5e+03\n",
       "Data variables:\n",
       "    uo       (time, depth, lat, lon) float32 ...\n",
       "    vo       (time, depth, lat, lon) float32 ...\n",
       "Attributes: (12/13)\n",
       "    title:                hourly-instantaneous horizontal velocity (3D)\n",
       "    Conventions:          CF-1.7\n",
       "    source:               PS-OS 45, AMM-FOAM 1.5 km (tidal) NEMO v3.6_WAVEWAT...\n",
       "    contact:              servicedesk.cmems@mercator-ocean.eu\n",
       "    netcdf-version-id:    netCDF-4\n",
       "    references:           http://marine.copernicus.eu/\n",
       "    ...                   ...\n",
       "    institution:          UK Met Office\n",
       "    history:              See source and creation_date attributes\n",
       "    forcing_data_source:  ECMWF Global Atmospheric Model (HRES); CMEMS-MERCAT...\n",
       "    product:              NORTHWESTSHELF_ANALYSIS_FORECAST_PHY_004_013\n",
       "    credit:               E.U. Copernicus Marine Service Information (CMEMS)\n",
       "    licence:              http://marine.copernicus.eu/services-portfolio/serv..."
      ]
     },
     "execution_count": 33,
     "metadata": {},
     "output_type": "execute_result"
    }
   ],
   "source": [
    "ocean_ds = xr.open_dataset(example_file)\n",
    "ocean_ds"
   ]
  },
  {
   "cell_type": "code",
   "execution_count": 34,
   "id": "automatic-trainer",
   "metadata": {},
   "outputs": [
    {
     "data": {
      "text/plain": [
       "[<matplotlib.lines.Line2D at 0x14b5b8a02500>]"
      ]
     },
     "execution_count": 34,
     "metadata": {},
     "output_type": "execute_result"
    },
    {
     "data": {
      "image/png": "[encoded data removed]",
      "text/plain": [
       "<Figure size 432x288 with 2 Axes>"
      ]
     },
     "metadata": {
      "needs_background": "light"
     },
     "output_type": "display_data"
    }
   ],
   "source": [
    "ocean_ds.isel(time=0, depth=1).uo.isnull().plot(x=\"lon\", y=\"lat\")\n",
    "particle_ds.plot.scatter(x=\"lon\", y=\"lat\")\n",
    "particle_ds.isel(obs=0).plot.scatter(x=\"lon\", y=\"lat\")\n",
    "plt.plot(bathymodiolus_lon, bathymodiolus_lat, 'rx')"
   ]
  },
  {
   "cell_type": "code",
   "execution_count": 35,
   "id": "stainless-speaking",
   "metadata": {
    "tags": []
   },
   "outputs": [
    {
     "data": {
      "text/plain": [
       "[<matplotlib.lines.Line2D at 0x14b5b8a84490>]"
      ]
     },
     "execution_count": 35,
     "metadata": {},
     "output_type": "execute_result"
    },
    {
     "data": {
      "image/png": "[encoded data removed]",
      "text/plain": [
       "<Figure size 432x288 with 1 Axes>"
      ]
     },
     "metadata": {
      "needs_background": "light"
     },
     "output_type": "display_data"
    }
   ],
   "source": [
    "particle_ds.lon.isnull().sum(\"traj\").plot()"
   ]
  },
  {
   "cell_type": "code",
   "execution_count": null,
   "id": "5822f3a9-9ee5-4398-b1e1-4b506b98a832",
   "metadata": {},
   "outputs": [],
   "source": []
  }
 ],
 "metadata": {
  "kernelspec": {
   "display_name": "Python 3 (ipykernel)",
   "language": "python",
   "name": "python3"
  },
  "language_info": {
   "codemirror_mode": {
    "name": "ipython",
    "version": 3
   },
   "file_extension": ".py",
   "mimetype": "text/x-python",
   "name": "python",
   "nbconvert_exporter": "python",
   "pygments_lexer": "ipython3",
   "version": "3.10.8"
  }
 },
 "nbformat": 4,
 "nbformat_minor": 5
}
